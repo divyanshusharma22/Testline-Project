{
  "nbformat": 4,
  "nbformat_minor": 0,
  "metadata": {
    "colab": {
      "provenance": [],
      "authorship_tag": "ABX9TyNDJm6W+RxUtAQfP1Gp+HIN",
      "include_colab_link": true
    },
    "kernelspec": {
      "name": "python3",
      "display_name": "Python 3"
    },
    "language_info": {
      "name": "python"
    }
  },
  "cells": [
    {
      "cell_type": "markdown",
      "metadata": {
        "id": "view-in-github",
        "colab_type": "text"
      },
      "source": [
        "<a href=\"https://colab.research.google.com/github/divyanshusharma22/Testline-Project/blob/main/testline_assignment.ipynb\" target=\"_parent\"><img src=\"https://colab.research.google.com/assets/colab-badge.svg\" alt=\"Open In Colab\"/></a>"
      ]
    },
    {
      "cell_type": "code",
      "execution_count": 9,
      "metadata": {
        "id": "-65LQloo3Tin"
      },
      "outputs": [],
      "source": [
        "import pandas as pd\n",
        "import numpy as np\n",
        "import matplotlib.pyplot as plt\n",
        "import seaborn as sns\n",
        "from pprint import pprint\n",
        "import requests\n",
        "import urllib3"
      ]
    },
    {
      "cell_type": "code",
      "source": [
        "# Step 1: Fetch Data from Provided Links\n",
        "# Quiz Endpoint Data\n",
        "quiz_endpoint_url = \"https://jsonkeeper.com/b/LLQT\"\n"
      ],
      "metadata": {
        "id": "JSdxxCvPYx7W"
      },
      "execution_count": 6,
      "outputs": []
    },
    {
      "cell_type": "code",
      "source": [
        "import urllib3\n",
        "import json\n",
        "\n",
        "quiz_endpoint_url = \"https://jsonkeeper.com/b/LLQT\"\n",
        "\n",
        "http = urllib3.PoolManager(cert_reqs='CERT_NONE')  # Disable SSL verification\n",
        "response = http.request('GET', quiz_endpoint_url)\n",
        "quiz_data = json.loads(response.data.decode('utf-8'))\n",
        "print(\"Quiz Endpoint Data fetched successfully!\")\n",
        "\n"
      ],
      "metadata": {
        "colab": {
          "base_uri": "https://localhost:8080/"
        },
        "id": "YQCOHGHLZOIe",
        "outputId": "64517991-c1f9-44f5-d5b1-255f6f4dbb10"
      },
      "execution_count": 10,
      "outputs": [
        {
          "output_type": "stream",
          "name": "stderr",
          "text": [
            "/usr/local/lib/python3.11/dist-packages/urllib3/connectionpool.py:1097: InsecureRequestWarning: Unverified HTTPS request is being made to host 'jsonkeeper.com'. Adding certificate verification is strongly advised. See: https://urllib3.readthedocs.io/en/latest/advanced-usage.html#tls-warnings\n",
            "  warnings.warn(\n"
          ]
        },
        {
          "output_type": "stream",
          "name": "stdout",
          "text": [
            "Quiz Endpoint Data fetched successfully!\n"
          ]
        }
      ]
    },
    {
      "cell_type": "code",
      "source": [
        "# Quiz Submission Data\n",
        "quiz_submission_url = \"https://api.jsonserve.com/rJvd7g\"\n",
        "response = http.request('GET', quiz_submission_url)\n",
        "submission_data = json.loads(response.data.decode('utf-8'))\n",
        "print(\"Quiz Submission Data fetched successfully!\")"
      ],
      "metadata": {
        "colab": {
          "base_uri": "https://localhost:8080/"
        },
        "id": "vmtiGyJRZ5v1",
        "outputId": "483794a0-bcc1-414f-ec72-aa859a37805d"
      },
      "execution_count": 11,
      "outputs": [
        {
          "output_type": "stream",
          "name": "stderr",
          "text": [
            "/usr/local/lib/python3.11/dist-packages/urllib3/connectionpool.py:1097: InsecureRequestWarning: Unverified HTTPS request is being made to host 'api.jsonserve.com'. Adding certificate verification is strongly advised. See: https://urllib3.readthedocs.io/en/latest/advanced-usage.html#tls-warnings\n",
            "  warnings.warn(\n"
          ]
        },
        {
          "output_type": "stream",
          "name": "stdout",
          "text": [
            "Quiz Submission Data fetched successfully!\n"
          ]
        }
      ]
    },
    {
      "cell_type": "code",
      "source": [
        "from pprint import pprint\n",
        "pprint(submission_data)\n"
      ],
      "metadata": {
        "colab": {
          "base_uri": "https://localhost:8080/"
        },
        "id": "UF7DzU_gaMYk",
        "outputId": "2d4e12ad-f767-458a-a0c7-57ace97c5c04"
      },
      "execution_count": 14,
      "outputs": [
        {
          "output_type": "stream",
          "name": "stdout",
          "text": [
            "{'accuracy': '80 %',\n",
            " 'better_than': 24,\n",
            " 'correct_answers': 8,\n",
            " 'created_at': '2025-01-17T15:51:29.871+05:30',\n",
            " 'duration': '15:00',\n",
            " 'ended_at': '2025-01-17T16:21:28.000+05:30',\n",
            " 'final_score': '30.0',\n",
            " 'id': 336566,\n",
            " 'incorrect_answers': 2,\n",
            " 'initial_mistake_count': 8,\n",
            " 'mistakes_corrected': 6,\n",
            " 'negative_score': '2.0',\n",
            " 'next_steps': [{'pageType': 'resultPage'}],\n",
            " 'quiz': {'banner_id': None,\n",
            "          'coin_count': -1,\n",
            "          'correct_answer_marks': '4.0',\n",
            "          'created_at': '2024-07-03T11:00:08.958+05:30',\n",
            "          'daily_date': 'January 17, 2025',\n",
            "          'description': '',\n",
            "          'difficulty_level': None,\n",
            "          'duration': 128,\n",
            "          'end_time': '2024-07-04T00:00:00.000+05:30',\n",
            "          'ends_at': '2025-01-18',\n",
            "          'exam_id': None,\n",
            "          'id': 43,\n",
            "          'is_custom': False,\n",
            "          'is_form': False,\n",
            "          'is_published': True,\n",
            "          'live_count': 'Free Test',\n",
            "          'lives': None,\n",
            "          'lock_solutions': False,\n",
            "          'max_mistake_count': 15,\n",
            "          'name': None,\n",
            "          'negative_marks': '1.0',\n",
            "          'questions_count': 128,\n",
            "          'quiz_type': None,\n",
            "          'reading_material': None,\n",
            "          'reading_materials': [],\n",
            "          'show_answers': True,\n",
            "          'show_mastery_option': False,\n",
            "          'show_unanswered': False,\n",
            "          'shuffle': True,\n",
            "          'time': '2024-07-03T00:00:00.000+05:30',\n",
            "          'title': 'Structural Organisation in Animals and Plants (7)',\n",
            "          'topic': 'Structural Organisation in Animals',\n",
            "          'updated_at': '2024-09-23T18:43:27.751+05:30'},\n",
            " 'quiz_id': 43,\n",
            " 'rank_text': 'Topic Rank - #2402',\n",
            " 'response_map': {'1837': 7363,\n",
            "                  '1848': 7407,\n",
            "                  '1852': 7423,\n",
            "                  '1862': 7464,\n",
            "                  '1877': 7525,\n",
            "                  '1878': 7529,\n",
            "                  '1900': 7617,\n",
            "                  '1917': 7685,\n",
            "                  '1934': 7750,\n",
            "                  '1964': 7872},\n",
            " 'score': 32,\n",
            " 'source': 'live',\n",
            " 'speed': '100',\n",
            " 'started_at': '2025-01-17T16:20:44.000+05:30',\n",
            " 'submitted_at': '2025-01-17T15:51:29.859+05:30',\n",
            " 'total_questions': 128,\n",
            " 'trophy_level': 2,\n",
            " 'type': 'topic',\n",
            " 'updated_at': '2025-01-17T15:51:29.871+05:30',\n",
            " 'user_id': '7ZXdz3zHuNcdg9agb5YpaOGLQqw2'}\n"
          ]
        }
      ]
    },
    {
      "cell_type": "code",
      "source": [
        "# Historical Quiz Data\n",
        "historical_data_url = \"https://api.jsonserve.com/XgAgFJ\"\n",
        "response = http.request('GET', historical_data_url)\n",
        "historical_data = json.loads(response.data.decode('utf-8'))\n",
        "print(\"Historical Quiz Data fetched successfully!\")\n"
      ],
      "metadata": {
        "colab": {
          "base_uri": "https://localhost:8080/"
        },
        "id": "Ml--sq27Z7XQ",
        "outputId": "8f98dbbc-811f-4591-bde5-62f43708911a"
      },
      "execution_count": 12,
      "outputs": [
        {
          "output_type": "stream",
          "name": "stderr",
          "text": [
            "/usr/local/lib/python3.11/dist-packages/urllib3/connectionpool.py:1097: InsecureRequestWarning: Unverified HTTPS request is being made to host 'api.jsonserve.com'. Adding certificate verification is strongly advised. See: https://urllib3.readthedocs.io/en/latest/advanced-usage.html#tls-warnings\n",
            "  warnings.warn(\n"
          ]
        },
        {
          "output_type": "stream",
          "name": "stdout",
          "text": [
            "Historical Quiz Data fetched successfully!\n"
          ]
        }
      ]
    },
    {
      "cell_type": "code",
      "source": [
        "# Process Quiz Data\n",
        "questions = quiz_data['quiz']['questions']\n",
        "questions_df = pd.DataFrame(questions)\n",
        "\n",
        "# Flatten Submission Data\n",
        "submission_flat = pd.json_normalize(submission_data)\n",
        "print(\"Flattened Submission DataFrame:\")\n",
        "print(submission_flat.head())"
      ],
      "metadata": {
        "colab": {
          "base_uri": "https://localhost:8080/"
        },
        "id": "jPgdpuZba0FH",
        "outputId": "c632e0b6-3601-4740-c099-c72dad965db7"
      },
      "execution_count": 15,
      "outputs": [
        {
          "output_type": "stream",
          "name": "stdout",
          "text": [
            "Flattened Submission DataFrame:\n",
            "       id  quiz_id                       user_id  \\\n",
            "0  336566       43  7ZXdz3zHuNcdg9agb5YpaOGLQqw2   \n",
            "\n",
            "                    submitted_at                     created_at  \\\n",
            "0  2025-01-17T15:51:29.859+05:30  2025-01-17T15:51:29.871+05:30   \n",
            "\n",
            "                      updated_at  score  trophy_level accuracy speed  ...  \\\n",
            "0  2025-01-17T15:51:29.871+05:30     32             2     80 %   100  ...   \n",
            "\n",
            "  quiz.exam_id quiz.show_unanswered  quiz.ends_at  quiz.lives quiz.live_count  \\\n",
            "0         None                False    2025-01-18        None       Free Test   \n",
            "\n",
            "  quiz.coin_count quiz.questions_count   quiz.daily_date  \\\n",
            "0              -1                  128  January 17, 2025   \n",
            "\n",
            "  quiz.max_mistake_count  quiz.reading_materials  \n",
            "0                     15                      []  \n",
            "\n",
            "[1 rows x 68 columns]\n"
          ]
        }
      ]
    },
    {
      "cell_type": "code",
      "source": [
        "# Process Response Map\n",
        "response_map = submission_data['response_map']\n",
        "response_map_df = pd.DataFrame(list(response_map.items()), columns=['question_id', 'selected_option_id'])\n"
      ],
      "metadata": {
        "id": "xgyr4QBha15x"
      },
      "execution_count": 16,
      "outputs": []
    },
    {
      "cell_type": "code",
      "source": [
        "# Add Metadata to Response Map\n",
        "response_map_df['quiz_id'] = submission_data['quiz_id']\n",
        "response_map_df['user_id'] = submission_data['user_id']\n",
        "print(\"Processed Response Map:\")\n",
        "print(response_map_df.head())"
      ],
      "metadata": {
        "colab": {
          "base_uri": "https://localhost:8080/"
        },
        "id": "E57WTf1ba5AI",
        "outputId": "716b3a02-02d8-44a7-dddc-6226cd910475"
      },
      "execution_count": 17,
      "outputs": [
        {
          "output_type": "stream",
          "name": "stdout",
          "text": [
            "Processed Response Map:\n",
            "  question_id  selected_option_id  quiz_id                       user_id\n",
            "0        1837                7363       43  7ZXdz3zHuNcdg9agb5YpaOGLQqw2\n",
            "1        1848                7407       43  7ZXdz3zHuNcdg9agb5YpaOGLQqw2\n",
            "2        1852                7423       43  7ZXdz3zHuNcdg9agb5YpaOGLQqw2\n",
            "3        1862                7464       43  7ZXdz3zHuNcdg9agb5YpaOGLQqw2\n",
            "4        1877                7525       43  7ZXdz3zHuNcdg9agb5YpaOGLQqw2\n"
          ]
        }
      ]
    },
    {
      "cell_type": "code",
      "source": [
        "# Historical Data\n",
        "historical_df = pd.DataFrame(historical_data)\n",
        "print(response_map_df.dtypes)\n",
        "print(questions_df.dtypes)\n",
        "\n"
      ],
      "metadata": {
        "colab": {
          "base_uri": "https://localhost:8080/"
        },
        "id": "nWH5e4mIa5oS",
        "outputId": "85a85c5b-8a1e-403f-c952-f399fc5f20b9"
      },
      "execution_count": 21,
      "outputs": [
        {
          "output_type": "stream",
          "name": "stdout",
          "text": [
            "question_id           object\n",
            "selected_option_id     int64\n",
            "quiz_id                int64\n",
            "user_id               object\n",
            "dtype: object\n",
            "id                      int64\n",
            "description            object\n",
            "difficulty_level       object\n",
            "topic                  object\n",
            "is_published             bool\n",
            "created_at             object\n",
            "updated_at             object\n",
            "detailed_solution      object\n",
            "type                   object\n",
            "is_mandatory             bool\n",
            "show_in_feed             bool\n",
            "pyq_label              object\n",
            "topic_id                int64\n",
            "reading_material_id     int64\n",
            "fixed_at               object\n",
            "fix_summary            object\n",
            "created_by             object\n",
            "updated_by             object\n",
            "quiz_level             object\n",
            "question_from          object\n",
            "language               object\n",
            "photo_url              object\n",
            "photo_solution_url     object\n",
            "is_saved                 bool\n",
            "tag                    object\n",
            "options                object\n",
            "dtype: object\n"
          ]
        }
      ]
    },
    {
      "cell_type": "code",
      "source": [
        "# Convert question_id in response_map_df to int64\n",
        "response_map_df['question_id'] = response_map_df['question_id'].astype(int)\n",
        "\n",
        "# Merge the response_map_df with questions_df\n",
        "merged_df = pd.merge(response_map_df, questions_df, left_on='question_id', right_on='id', how='inner')\n",
        "\n",
        "# Preview the merged DataFrame\n",
        "print(\"Merged DataFrame:\")\n",
        "print(merged_df.head())\n"
      ],
      "metadata": {
        "colab": {
          "base_uri": "https://localhost:8080/"
        },
        "id": "6FxbpP48bTuY",
        "outputId": "1a6c0eee-34c1-4aeb-fdc8-7f4fb77320ee"
      },
      "execution_count": 22,
      "outputs": [
        {
          "output_type": "stream",
          "name": "stdout",
          "text": [
            "Merged DataFrame:\n",
            "   question_id  selected_option_id  quiz_id                       user_id  \\\n",
            "0         1837                7363       43  7ZXdz3zHuNcdg9agb5YpaOGLQqw2   \n",
            "1         1848                7407       43  7ZXdz3zHuNcdg9agb5YpaOGLQqw2   \n",
            "2         1852                7423       43  7ZXdz3zHuNcdg9agb5YpaOGLQqw2   \n",
            "3         1862                7464       43  7ZXdz3zHuNcdg9agb5YpaOGLQqw2   \n",
            "4         1877                7525       43  7ZXdz3zHuNcdg9agb5YpaOGLQqw2   \n",
            "\n",
            "     id                                        description difficulty_level  \\\n",
            "0  1837  Which of the following statement(s) regarding ...             None   \n",
            "1  1848  Which of the following types of connective tis...             None   \n",
            "2  1852                 Choose the correctly matched pair.             None   \n",
            "3  1862  The secretions of endocrine glands are release...             None   \n",
            "4  1877                                    Frog's heart is             None   \n",
            "\n",
            "                                 topic  is_published  \\\n",
            "0  structural organisation in animals           True   \n",
            "1  structural organisation in animals           True   \n",
            "2  structural organisation in animals           True   \n",
            "3  structural organisation in animals           True   \n",
            "4  structural organisation in animals           True   \n",
            "\n",
            "                      created_at  ... created_by updated_by quiz_level  \\\n",
            "0  2024-07-02T13:21:54.610+05:30  ...       None       None       None   \n",
            "1  2024-07-02T14:06:55.970+05:30  ...       None       None       None   \n",
            "2  2024-07-02T14:14:40.254+05:30  ...       None       None       None   \n",
            "3  2024-07-02T14:44:43.870+05:30  ...       None       None       None   \n",
            "4  2024-07-02T15:31:52.148+05:30  ...       None       None       None   \n",
            "\n",
            "   question_from  language photo_url  photo_solution_url  is_saved tag  \\\n",
            "0         Q-bank      None      None                None     False       \n",
            "1         Q-bank      None      None                None     False       \n",
            "2         Q-bank      None      None                None     False       \n",
            "3         Q-bank      None      None                None     False       \n",
            "4         Q-bank      None      None                None     False       \n",
            "\n",
            "                                             options  \n",
            "0  [{'id': 7361, 'description': 'Tight junctions ...  \n",
            "1  [{'id': 7405, 'description': 'Areolar - Loosel...  \n",
            "2  [{'id': 7421, 'description': 'Tendon-Specializ...  \n",
            "3  [{'id': 7461, 'description': 'into the skin su...  \n",
            "4  [{'id': 7522, 'description': 'neurogenic and 4...  \n",
            "\n",
            "[5 rows x 30 columns]\n"
          ]
        }
      ]
    },
    {
      "cell_type": "code",
      "source": [
        "# Extract the correct option ID from the `options` column\n",
        "merged_df['correct_option_id'] = merged_df['options'].apply(\n",
        "    lambda x: next((o['id'] for o in x if o.get('is_correct')), None)\n",
        ")\n",
        "\n",
        "# Add a column to indicate if the user's answer was correct\n",
        "merged_df['is_correct'] = merged_df['selected_option_id'] == merged_df['correct_option_id']\n",
        "\n",
        "# Preview the updated DataFrame\n",
        "print(\"Updated DataFrame with Correctness:\")\n",
        "print(merged_df[['question_id', 'selected_option_id', 'correct_option_id', 'is_correct']].head())\n"
      ],
      "metadata": {
        "colab": {
          "base_uri": "https://localhost:8080/"
        },
        "id": "rjo7CZ-scLda",
        "outputId": "0e073c05-613e-481f-e24e-f171de4759fa"
      },
      "execution_count": 26,
      "outputs": [
        {
          "output_type": "stream",
          "name": "stdout",
          "text": [
            "Updated DataFrame with Correctness:\n",
            "   question_id  selected_option_id  correct_option_id  is_correct\n",
            "0         1837                7363               7363        True\n",
            "1         1848                7407               7407        True\n",
            "2         1852                7423               7423        True\n",
            "3         1862                7464               7462       False\n",
            "4         1877                7525               7525        True\n"
          ]
        }
      ]
    },
    {
      "cell_type": "code",
      "source": [
        "# Calculate Overall Accuracy\n",
        "overall_accuracy = merged_df['is_correct'].mean() * 100\n",
        "print(f\"\\nOverall Accuracy: {overall_accuracy:.2f}%\")\n",
        "\n"
      ],
      "metadata": {
        "colab": {
          "base_uri": "https://localhost:8080/"
        },
        "id": "T7m3kT1DcLf-",
        "outputId": "111540d1-f470-45bf-d5a3-8bf7f39a0a1d"
      },
      "execution_count": 31,
      "outputs": [
        {
          "output_type": "stream",
          "name": "stdout",
          "text": [
            "\n",
            "Overall Accuracy: 80.00%\n"
          ]
        }
      ]
    },
    {
      "cell_type": "code",
      "source": [
        "# Filter Incorrect Questions\n",
        "incorrect_questions = merged_df[~merged_df['is_correct']]\n",
        "\n",
        "# Display Incorrectly Answered Questions\n",
        "print(\"\\nIncorrectly Answered Questions:\")\n",
        "print(incorrect_questions[['question_id', 'description', 'correct_option_id', 'selected_option_id']])\n",
        "\n"
      ],
      "metadata": {
        "colab": {
          "base_uri": "https://localhost:8080/"
        },
        "id": "mFrIs7NYcllb",
        "outputId": "3f2ceeb6-a7f0-40da-8c7f-e18f440ec89d"
      },
      "execution_count": 32,
      "outputs": [
        {
          "output_type": "stream",
          "name": "stdout",
          "text": [
            "\n",
            "Incorrectly Answered Questions:\n",
            "   question_id                                        description  \\\n",
            "3         1862  The secretions of endocrine glands are release...   \n",
            "5         1878  Vasa efferentia in male frog, enter the kidney...   \n",
            "\n",
            "   correct_option_id  selected_option_id  \n",
            "3               7462                7464  \n",
            "5               7526                7529  \n"
          ]
        }
      ]
    },
    {
      "cell_type": "code",
      "source": [
        "# Generate Recommendations for Incorrect Questions\n",
        "recommendations = []\n",
        "for _, row in incorrect_questions.iterrows():\n",
        "    recommendations.append(\n",
        "        f\"Revise the question: '{row['description']}' (Correct Option: {row['correct_option_id']})\"\n",
        "    )\n",
        "\n",
        "if recommendations:\n",
        "    print(\"\\nRecommendations:\")\n",
        "    print(\"\\n\".join(recommendations))\n",
        "else:\n",
        "    print(\"\\nGreat job! You answered all questions correctly.\")\n"
      ],
      "metadata": {
        "colab": {
          "base_uri": "https://localhost:8080/"
        },
        "id": "43BtMOkDclnf",
        "outputId": "c1ee7b9f-4e3e-4285-a105-15a95bdc96b7"
      },
      "execution_count": 33,
      "outputs": [
        {
          "output_type": "stream",
          "name": "stdout",
          "text": [
            "\n",
            "Recommendations:\n",
            "Revise the question: 'The secretions of endocrine glands are released directly' (Correct Option: 7462)\n",
            "Revise the question: 'Vasa efferentia in male frog, enter the kidney and open into' (Correct Option: 7526)\n"
          ]
        }
      ]
    },
    {
      "cell_type": "code",
      "source": [
        "import matplotlib.pyplot as plt\n",
        "\n",
        "# Plot Correct vs Incorrect Answers\n",
        "answer_summary = merged_df['is_correct'].value_counts()\n",
        "plt.figure(figsize=(6, 4))\n",
        "answer_summary.plot(kind='bar', color=['red', 'green'], rot=0)\n",
        "plt.title(\"Correct vs Incorrect Answers\")\n",
        "plt.xlabel(\"Correct (1) / Incorrect (0)\")\n",
        "plt.ylabel(\"Number of Questions\")\n",
        "plt.show()\n",
        "\n"
      ],
      "metadata": {
        "colab": {
          "base_uri": "https://localhost:8080/",
          "height": 410
        },
        "id": "MJaV1lMAclrA",
        "outputId": "33e609f7-5714-4296-cc15-1b31eb0d29af"
      },
      "execution_count": 34,
      "outputs": [
        {
          "output_type": "display_data",
          "data": {
            "text/plain": [
              "<Figure size 600x400 with 1 Axes>"
            ],
            "image/png": "[encoded data removed]"
          },
          "metadata": {}
        }
      ]
    },
    {
      "cell_type": "code",
      "source": [
        "# Save Incorrectly Answered Questions\n",
        "incorrect_questions.to_csv(\"incorrect_questions.csv\", index=False)\n",
        "\n",
        "# Download the file\n",
        "from google.colab import files\n",
        "files.download(\"incorrect_questions.csv\")\n"
      ],
      "metadata": {
        "colab": {
          "base_uri": "https://localhost:8080/",
          "height": 17
        },
        "id": "-_5W_BUDclxW",
        "outputId": "e5e3f7fd-e81f-4e8f-ae69-39d479ef5bcc"
      },
      "execution_count": 35,
      "outputs": [
        {
          "output_type": "display_data",
          "data": {
            "text/plain": [
              "<IPython.core.display.Javascript object>"
            ],
            "application/javascript": [
              "\n",
              "    async function download(id, filename, size) {\n",
              "      if (!google.colab.kernel.accessAllowed) {\n",
              "        return;\n",
              "      }\n",
              "      const div = document.createElement('div');\n",
              "      const label = document.createElement('label');\n",
              "      label.textContent = `Downloading \"${filename}\": `;\n",
              "      div.appendChild(label);\n",
              "      const progress = document.createElement('progress');\n",
              "      progress.max = size;\n",
              "      div.appendChild(progress);\n",
              "      document.body.appendChild(div);\n",
              "\n",
              "      const buffers = [];\n",
              "      let downloaded = 0;\n",
              "\n",
              "      const channel = await google.colab.kernel.comms.open(id);\n",
              "      // Send a message to notify the kernel that we're ready.\n",
              "      channel.send({})\n",
              "\n",
              "      for await (const message of channel.messages) {\n",
              "        // Send a message to notify the kernel that we're ready.\n",
              "        channel.send({})\n",
              "        if (message.buffers) {\n",
              "          for (const buffer of message.buffers) {\n",
              "            buffers.push(buffer);\n",
              "            downloaded += buffer.byteLength;\n",
              "            progress.value = downloaded;\n",
              "          }\n",
              "        }\n",
              "      }\n",
              "      const blob = new Blob(buffers, {type: 'application/binary'});\n",
              "      const a = document.createElement('a');\n",
              "      a.href = window.URL.createObjectURL(blob);\n",
              "      a.download = filename;\n",
              "      div.appendChild(a);\n",
              "      a.click();\n",
              "      div.remove();\n",
              "    }\n",
              "  "
            ]
          },
          "metadata": {}
        },
        {
          "output_type": "display_data",
          "data": {
            "text/plain": [
              "<IPython.core.display.Javascript object>"
            ],
            "application/javascript": [
              "download(\"download_ba5996cd-843a-4a12-a9f2-71c7c4187f02\", \"incorrect_questions.csv\", 2698)"
            ]
          },
          "metadata": {}
        }
      ]
    },
    {
      "cell_type": "code",
      "source": [],
      "metadata": {
        "id": "9LzwmgFCcLh-"
      },
      "execution_count": null,
      "outputs": []
    },
    {
      "cell_type": "code",
      "source": [],
      "metadata": {
        "id": "taxaTE7XcLlG"
      },
      "execution_count": null,
      "outputs": []
    }
  ]
}